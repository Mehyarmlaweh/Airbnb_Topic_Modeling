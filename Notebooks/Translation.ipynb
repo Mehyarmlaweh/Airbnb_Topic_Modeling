{
 "cells": [
  {
   "cell_type": "code",
   "execution_count": 1,
   "id": "2d7d5700",
   "metadata": {},
   "outputs": [],
   "source": [
    "import pandas as pd\n",
    "from deep_translator import GoogleTranslator"
   ]
  },
  {
   "cell_type": "code",
   "execution_count": 2,
   "id": "ff14643a",
   "metadata": {},
   "outputs": [],
   "source": [
    "df = pd.read_csv(\"data.csv\")"
   ]
  },
  {
   "cell_type": "code",
   "execution_count": 3,
   "id": "85ed5ee0",
   "metadata": {},
   "outputs": [],
   "source": [
    "hostAbout= df[\"host_about\"]"
   ]
  },
  {
   "cell_type": "code",
   "execution_count": 25,
   "id": "99f21524",
   "metadata": {},
   "outputs": [
    {
     "data": {
      "text/plain": [
       "'Bonjour, je m’appelle Crissa.\\nJe suis Franco-espagnole et vis à Paris.\\rJe parle français, espagnol, anglais et italien et ce sera un plaisir de vous accueillir. Je partagerai avec vous mes meilleures adresses afin de vous faire vivre la meilleure expérience à Paris.'"
      ]
     },
     "execution_count": 25,
     "metadata": {},
     "output_type": "execute_result"
    }
   ],
   "source": [
    "hostAbout[33704]"
   ]
  },
  {
   "cell_type": "code",
   "execution_count": 5,
   "id": "8702e742",
   "metadata": {},
   "outputs": [
    {
     "data": {
      "text/plain": [
       "84397"
      ]
     },
     "execution_count": 5,
     "metadata": {},
     "output_type": "execute_result"
    }
   ],
   "source": [
    "len(hostAbout)"
   ]
  },
  {
   "cell_type": "code",
   "execution_count": null,
   "id": "51ddb76d",
   "metadata": {},
   "outputs": [],
   "source": [
    "def translate_to_english(text):\n",
    "    try:\n",
    "        translated_text = GoogleTranslator(source='auto', target='en').translate(text)\n",
    "        return translated_text\n",
    "    except Exception as e:\n",
    "        print(\"Error translating text:\", text)\n",
    "        print(\"Error:\", e)\n",
    "        return None"
   ]
  },
  {
   "cell_type": "code",
   "execution_count": null,
   "id": "603030e6",
   "metadata": {
    "scrolled": false
   },
   "outputs": [],
   "source": [
    "translated_host_about = hostAbout.apply(translate_to_english)\n",
    "\n",
    "df[\"hostAbout\"] = translated_host_about\n",
    "\n",
    "df.to_csv(\"translated_data.csv\", index=False)"
   ]
  },
  {
   "cell_type": "code",
   "execution_count": 26,
   "id": "ae1aa248",
   "metadata": {},
   "outputs": [],
   "source": [
    "df2 = pd.read_csv(\"translated_data.csv\")"
   ]
  },
  {
   "cell_type": "code",
   "execution_count": 27,
   "id": "fc360e1c",
   "metadata": {},
   "outputs": [
    {
     "data": {
      "text/plain": [
       "33705"
      ]
     },
     "execution_count": 27,
     "metadata": {},
     "output_type": "execute_result"
    }
   ],
   "source": [
    "hostAbout2= df2[\"hostAbout\"]\n",
    "len(hostAbout2)"
   ]
  },
  {
   "cell_type": "code",
   "execution_count": 31,
   "id": "54248927",
   "metadata": {},
   "outputs": [
    {
     "data": {
      "text/plain": [
       "'I work for a Parisian real estate agency, which offers medium-term rentals in Paris from 1 to 10 months as part of the mobility lease.\\n\\nOur agency is located in Paris 15, at 14 rue Falguière, and has a financial guarantee of €260,000 in rental management and €120,000 in transactions.\\nRCS Paris five two nine one one eight seven eight eight.\\n\\nI work for a Parisian real estate agency, which offers medium-term rentals in Paris from 1 to 10 months under the mobility lease.\\n\\nOur agency is located in Paris 15, at 14 rue Falguière, and has a fina'"
      ]
     },
     "execution_count": 31,
     "metadata": {},
     "output_type": "execute_result"
    }
   ],
   "source": [
    "hostAbout2[33704]"
   ]
  },
  {
   "cell_type": "code",
   "execution_count": 32,
   "id": "ce33969f",
   "metadata": {},
   "outputs": [
    {
     "name": "stdout",
     "output_type": "stream",
     "text": [
      "0                                                  NaN\n",
      "1    found of life , I'm curious about  all types o...\n",
      "2    We have spent a lot of time traveling for work...\n",
      "3    It is always a pleasure to meet new people aro...\n",
      "4    We are a French family of four. My wife is a u...\n",
      "Name: host_about, dtype: object\n"
     ]
    }
   ],
   "source": [
    "df.loc[:33704, \"host_about\"] = hostAbout2\n",
    "\n",
    "# Verify the changes\n",
    "print(df[\"host_about\"].head())\n"
   ]
  },
  {
   "cell_type": "code",
   "execution_count": 43,
   "id": "90e0c4e6",
   "metadata": {},
   "outputs": [],
   "source": [
    "df[\"host_about\"].fillna(\"No description\", inplace=True)"
   ]
  },
  {
   "cell_type": "code",
   "execution_count": 44,
   "id": "3e9f5609",
   "metadata": {},
   "outputs": [
    {
     "data": {
      "text/html": [
       "<div>\n",
       "<style scoped>\n",
       "    .dataframe tbody tr th:only-of-type {\n",
       "        vertical-align: middle;\n",
       "    }\n",
       "\n",
       "    .dataframe tbody tr th {\n",
       "        vertical-align: top;\n",
       "    }\n",
       "\n",
       "    .dataframe thead th {\n",
       "        text-align: right;\n",
       "    }\n",
       "</style>\n",
       "<table border=\"1\" class=\"dataframe\">\n",
       "  <thead>\n",
       "    <tr style=\"text-align: right;\">\n",
       "      <th></th>\n",
       "      <th>host_about</th>\n",
       "      <th>review_scores_communication</th>\n",
       "      <th>review_scores_rating</th>\n",
       "      <th>host_listings_count</th>\n",
       "    </tr>\n",
       "  </thead>\n",
       "  <tbody>\n",
       "    <tr>\n",
       "      <th>0</th>\n",
       "      <td>No description</td>\n",
       "      <td>5.00</td>\n",
       "      <td>5.00</td>\n",
       "      <td>1.0</td>\n",
       "    </tr>\n",
       "    <tr>\n",
       "      <th>1</th>\n",
       "      <td>found of life , I'm curious about  all types o...</td>\n",
       "      <td>4.89</td>\n",
       "      <td>4.68</td>\n",
       "      <td>1.0</td>\n",
       "    </tr>\n",
       "    <tr>\n",
       "      <th>2</th>\n",
       "      <td>We have spent a lot of time traveling for work...</td>\n",
       "      <td>4.84</td>\n",
       "      <td>4.60</td>\n",
       "      <td>2.0</td>\n",
       "    </tr>\n",
       "    <tr>\n",
       "      <th>3</th>\n",
       "      <td>It is always a pleasure to meet new people aro...</td>\n",
       "      <td>4.79</td>\n",
       "      <td>4.56</td>\n",
       "      <td>1.0</td>\n",
       "    </tr>\n",
       "    <tr>\n",
       "      <th>4</th>\n",
       "      <td>We are a French family of four. My wife is a u...</td>\n",
       "      <td>4.97</td>\n",
       "      <td>4.86</td>\n",
       "      <td>1.0</td>\n",
       "    </tr>\n",
       "  </tbody>\n",
       "</table>\n",
       "</div>"
      ],
      "text/plain": [
       "                                          host_about  \\\n",
       "0                                     No description   \n",
       "1  found of life , I'm curious about  all types o...   \n",
       "2  We have spent a lot of time traveling for work...   \n",
       "3  It is always a pleasure to meet new people aro...   \n",
       "4  We are a French family of four. My wife is a u...   \n",
       "\n",
       "   review_scores_communication  review_scores_rating  host_listings_count  \n",
       "0                         5.00                  5.00                  1.0  \n",
       "1                         4.89                  4.68                  1.0  \n",
       "2                         4.84                  4.60                  2.0  \n",
       "3                         4.79                  4.56                  1.0  \n",
       "4                         4.97                  4.86                  1.0  "
      ]
     },
     "execution_count": 44,
     "metadata": {},
     "output_type": "execute_result"
    }
   ],
   "source": [
    "df.head()"
   ]
  },
  {
   "cell_type": "code",
   "execution_count": 45,
   "id": "939d7309",
   "metadata": {},
   "outputs": [],
   "source": [
    "df.to_csv(\"first_data.csv\", index=False)"
   ]
  }
 ],
 "metadata": {
  "kernelspec": {
   "display_name": "Python 3 (ipykernel)",
   "language": "python",
   "name": "python3"
  },
  "language_info": {
   "codemirror_mode": {
    "name": "ipython",
    "version": 3
   },
   "file_extension": ".py",
   "mimetype": "text/x-python",
   "name": "python",
   "nbconvert_exporter": "python",
   "pygments_lexer": "ipython3",
   "version": "3.11.4"
  }
 },
 "nbformat": 4,
 "nbformat_minor": 5
}
