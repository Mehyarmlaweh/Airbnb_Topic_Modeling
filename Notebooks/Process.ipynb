{
 "cells": [
  {
   "cell_type": "code",
   "execution_count": 18,
   "id": "057dc990",
   "metadata": {},
   "outputs": [],
   "source": [
    "import pandas as pd\n",
    "import nltk\n",
    "import langdetect\n",
    "from nltk.corpus import stopwords\n",
    "from nltk.tokenize import word_tokenize\n",
    "from nltk import pos_tag\n"
   ]
  },
  {
   "cell_type": "code",
   "execution_count": 5,
   "id": "f74f2c38",
   "metadata": {},
   "outputs": [
    {
     "name": "stderr",
     "output_type": "stream",
     "text": [
      "[nltk_data] Downloading package stopwords to\n",
      "[nltk_data]     C:\\Users\\14384\\AppData\\Roaming\\nltk_data...\n",
      "[nltk_data]   Package stopwords is already up-to-date!\n",
      "[nltk_data] Downloading package punkt to\n",
      "[nltk_data]     C:\\Users\\14384\\AppData\\Roaming\\nltk_data...\n",
      "[nltk_data]   Package punkt is already up-to-date!\n",
      "[nltk_data] Downloading package averaged_perceptron_tagger to\n",
      "[nltk_data]     C:\\Users\\14384\\AppData\\Roaming\\nltk_data...\n",
      "[nltk_data]   Package averaged_perceptron_tagger is already up-to-\n",
      "[nltk_data]       date!\n"
     ]
    },
    {
     "data": {
      "text/plain": [
       "True"
      ]
     },
     "execution_count": 5,
     "metadata": {},
     "output_type": "execute_result"
    }
   ],
   "source": [
    "# Download NLTK resources (run once)\n",
    "nltk.download(\"stopwords\")\n",
    "nltk.download(\"punkt\")\n",
    "nltk.download(\"averaged_perceptron_tagger\")"
   ]
  },
  {
   "cell_type": "code",
   "execution_count": 6,
   "id": "3ac4e2ce",
   "metadata": {},
   "outputs": [],
   "source": [
    "df = pd.read_csv(\"first_data.csv\")"
   ]
  },
  {
   "cell_type": "code",
   "execution_count": 19,
   "id": "12ed3bea",
   "metadata": {},
   "outputs": [],
   "source": [
    "def detect_language(text):\n",
    "    try:\n",
    "        return langdetect.detect(text)\n",
    "    except:\n",
    "        return None\n",
    "\n",
    "df[\"language\"] = df[\"host_about\"].apply(detect_language)\n",
    "\n",
    "df = df[df[\"language\"] == \"en\"]\n"
   ]
  },
  {
   "cell_type": "code",
   "execution_count": 23,
   "id": "43a589ad",
   "metadata": {},
   "outputs": [],
   "source": [
    "stop_words = set(stopwords.words(\"english\"))\n",
    "df[\"tokenized_description\"] = df[\"host_about\"].apply(lambda x: word_tokenize(x.lower()))\n",
    "df[\"filtered_description\"] = df[\"tokenized_description\"].apply(lambda x: [word for word in x if word not in stop_words])\n",
    "\n",
    "def select_nouns_adjectives(tokenized_text):\n",
    "    tagged_text = pos_tag(tokenized_text)\n",
    "    return [word for word, pos in tagged_text if pos.startswith(\"NN\") or pos.startswith(\"JJ\")]\n",
    "\n",
    "df[\"selected_words\"] = df[\"filtered_description\"].apply(select_nouns_adjectives)\n",
    "\n",
    "df.to_csv(\"preprocessed_dataset.csv\", index=False)\n"
   ]
  },
  {
   "cell_type": "code",
   "execution_count": 24,
   "id": "33855335",
   "metadata": {},
   "outputs": [],
   "source": [
    "df2 = pd.read_csv(\"preprocessed_dataset.csv\")"
   ]
  },
  {
   "cell_type": "code",
   "execution_count": 25,
   "id": "5c4179df",
   "metadata": {},
   "outputs": [
    {
     "data": {
      "text/html": [
       "<div>\n",
       "<style scoped>\n",
       "    .dataframe tbody tr th:only-of-type {\n",
       "        vertical-align: middle;\n",
       "    }\n",
       "\n",
       "    .dataframe tbody tr th {\n",
       "        vertical-align: top;\n",
       "    }\n",
       "\n",
       "    .dataframe thead th {\n",
       "        text-align: right;\n",
       "    }\n",
       "</style>\n",
       "<table border=\"1\" class=\"dataframe\">\n",
       "  <thead>\n",
       "    <tr style=\"text-align: right;\">\n",
       "      <th></th>\n",
       "      <th>host_about</th>\n",
       "      <th>review_scores_communication</th>\n",
       "      <th>review_scores_rating</th>\n",
       "      <th>host_listings_count</th>\n",
       "      <th>language</th>\n",
       "      <th>tokenized_description</th>\n",
       "      <th>filtered_description</th>\n",
       "      <th>selected_words</th>\n",
       "    </tr>\n",
       "  </thead>\n",
       "  <tbody>\n",
       "    <tr>\n",
       "      <th>0</th>\n",
       "      <td>found of life , I'm curious about  all types o...</td>\n",
       "      <td>4.89</td>\n",
       "      <td>4.68</td>\n",
       "      <td>1.0</td>\n",
       "      <td>en</td>\n",
       "      <td>['found', 'of', 'life', ',', 'i', \"'m\", 'curio...</td>\n",
       "      <td>['found', 'life', ',', \"'m\", 'curious', 'types...</td>\n",
       "      <td>['life', 'curious', 'types', 'travells', 'good...</td>\n",
       "    </tr>\n",
       "    <tr>\n",
       "      <th>1</th>\n",
       "      <td>We have spent a lot of time traveling for work...</td>\n",
       "      <td>4.84</td>\n",
       "      <td>4.60</td>\n",
       "      <td>2.0</td>\n",
       "      <td>en</td>\n",
       "      <td>['we', 'have', 'spent', 'a', 'lot', 'of', 'tim...</td>\n",
       "      <td>['spent', 'lot', 'time', 'traveling', 'work', ...</td>\n",
       "      <td>['spent', 'lot', 'time', 'work', 'leisure', 'u...</td>\n",
       "    </tr>\n",
       "    <tr>\n",
       "      <th>2</th>\n",
       "      <td>It is always a pleasure to meet new people aro...</td>\n",
       "      <td>4.79</td>\n",
       "      <td>4.56</td>\n",
       "      <td>1.0</td>\n",
       "      <td>en</td>\n",
       "      <td>['it', 'is', 'always', 'a', 'pleasure', 'to', ...</td>\n",
       "      <td>['always', 'pleasure', 'meet', 'new', 'people'...</td>\n",
       "      <td>['pleasure', 'new', 'people', 'world', 'beauti...</td>\n",
       "    </tr>\n",
       "    <tr>\n",
       "      <th>3</th>\n",
       "      <td>We are a French family of four. My wife is a u...</td>\n",
       "      <td>4.97</td>\n",
       "      <td>4.86</td>\n",
       "      <td>1.0</td>\n",
       "      <td>en</td>\n",
       "      <td>['we', 'are', 'a', 'french', 'family', 'of', '...</td>\n",
       "      <td>['french', 'family', 'four', '.', 'wife', 'uni...</td>\n",
       "      <td>['french', 'family', 'wife', 'university', 'pr...</td>\n",
       "    </tr>\n",
       "    <tr>\n",
       "      <th>4</th>\n",
       "      <td>Very lively, sociable and creative, but also r...</td>\n",
       "      <td>4.88</td>\n",
       "      <td>5.00</td>\n",
       "      <td>2.0</td>\n",
       "      <td>en</td>\n",
       "      <td>['very', 'lively', ',', 'sociable', 'and', 'cr...</td>\n",
       "      <td>['lively', ',', 'sociable', 'creative', ',', '...</td>\n",
       "      <td>['sociable', 'creative', 'respectful', 'empath...</td>\n",
       "    </tr>\n",
       "  </tbody>\n",
       "</table>\n",
       "</div>"
      ],
      "text/plain": [
       "                                          host_about  \\\n",
       "0  found of life , I'm curious about  all types o...   \n",
       "1  We have spent a lot of time traveling for work...   \n",
       "2  It is always a pleasure to meet new people aro...   \n",
       "3  We are a French family of four. My wife is a u...   \n",
       "4  Very lively, sociable and creative, but also r...   \n",
       "\n",
       "   review_scores_communication  review_scores_rating  host_listings_count  \\\n",
       "0                         4.89                  4.68                  1.0   \n",
       "1                         4.84                  4.60                  2.0   \n",
       "2                         4.79                  4.56                  1.0   \n",
       "3                         4.97                  4.86                  1.0   \n",
       "4                         4.88                  5.00                  2.0   \n",
       "\n",
       "  language                              tokenized_description  \\\n",
       "0       en  ['found', 'of', 'life', ',', 'i', \"'m\", 'curio...   \n",
       "1       en  ['we', 'have', 'spent', 'a', 'lot', 'of', 'tim...   \n",
       "2       en  ['it', 'is', 'always', 'a', 'pleasure', 'to', ...   \n",
       "3       en  ['we', 'are', 'a', 'french', 'family', 'of', '...   \n",
       "4       en  ['very', 'lively', ',', 'sociable', 'and', 'cr...   \n",
       "\n",
       "                                filtered_description  \\\n",
       "0  ['found', 'life', ',', \"'m\", 'curious', 'types...   \n",
       "1  ['spent', 'lot', 'time', 'traveling', 'work', ...   \n",
       "2  ['always', 'pleasure', 'meet', 'new', 'people'...   \n",
       "3  ['french', 'family', 'four', '.', 'wife', 'uni...   \n",
       "4  ['lively', ',', 'sociable', 'creative', ',', '...   \n",
       "\n",
       "                                      selected_words  \n",
       "0  ['life', 'curious', 'types', 'travells', 'good...  \n",
       "1  ['spent', 'lot', 'time', 'work', 'leisure', 'u...  \n",
       "2  ['pleasure', 'new', 'people', 'world', 'beauti...  \n",
       "3  ['french', 'family', 'wife', 'university', 'pr...  \n",
       "4  ['sociable', 'creative', 'respectful', 'empath...  "
      ]
     },
     "execution_count": 25,
     "metadata": {},
     "output_type": "execute_result"
    }
   ],
   "source": [
    "df2.head()"
   ]
  }
 ],
 "metadata": {
  "kernelspec": {
   "display_name": "Python 3 (ipykernel)",
   "language": "python",
   "name": "python3"
  },
  "language_info": {
   "codemirror_mode": {
    "name": "ipython",
    "version": 3
   },
   "file_extension": ".py",
   "mimetype": "text/x-python",
   "name": "python",
   "nbconvert_exporter": "python",
   "pygments_lexer": "ipython3",
   "version": "3.11.4"
  }
 },
 "nbformat": 4,
 "nbformat_minor": 5
}
